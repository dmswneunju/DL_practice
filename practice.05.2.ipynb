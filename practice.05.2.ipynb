{
 "cells": [
  {
   "cell_type": "markdown",
   "id": "2d56d98c",
   "metadata": {},
   "source": [
    "## 5-2. 데이터 전처리 및 Pre-Trained Embedding Vector를 이용한 Vocabulary생성"
   ]
  },
  {
   "cell_type": "code",
   "execution_count": 3,
   "id": "66bc5497",
   "metadata": {},
   "outputs": [
    {
     "name": "stdout",
     "output_type": "stream",
     "text": [
      "# conda environments:\n",
      "Note: you may need to restart the kernel to use updated packages.\n",
      "\n",
      "#\n",
      "base                     C:\\Users\\leeej\\anaconda3\n",
      "practice              *  C:\\Users\\leeej\\anaconda3\\envs\\practice\n",
      "test                     C:\\Users\\leeej\\anaconda3\\envs\\test\n",
      "\n"
     ]
    }
   ],
   "source": [
    "conda env list"
   ]
  },
  {
   "cell_type": "code",
   "execution_count": 4,
   "id": "661f042b",
   "metadata": {},
   "outputs": [
    {
     "name": "stdout",
     "output_type": "stream",
     "text": [
      "# packages in environment at C:\\Users\\leeej\\anaconda3\\envs\\practice:\n",
      "#\n",
      "# Name                    Version                   Build  Channel\n",
      "anyio                     3.6.2                    pypi_0    pypi\n",
      "argon2-cffi               21.3.0                   pypi_0    pypi\n",
      "argon2-cffi-bindings      21.2.0                   pypi_0    pypi\n",
      "attrs                     22.2.0                   pypi_0    pypi\n",
      "backcall                  0.2.0                    pypi_0    pypi\n",
      "beautifulsoup4            4.11.2                   pypi_0    pypi\n",
      "blas                      1.0                         mkl  \n",
      "bleach                    6.0.0                    pypi_0    pypi\n",
      "brotli                    1.0.9                h2bbff1b_7  \n",
      "brotli-bin                1.0.9                h2bbff1b_7  \n",
      "ca-certificates           2023.01.10           haa95532_0  \n",
      "certifi                   2022.12.7        py37haa95532_0  \n",
      "cffi                      1.15.1           py37h2bbff1b_3  \n",
      "charset-normalizer        3.0.1                    pypi_0    pypi\n",
      "colorama                  0.4.6                    pypi_0    pypi\n",
      "cpuonly                   2.0                           0    pytorch\n",
      "cudatoolkit               10.1.243             h74a9793_0  \n",
      "cycler                    0.11.0             pyhd3eb1b0_0  \n",
      "debugpy                   1.6.6                    pypi_0    pypi\n",
      "decorator                 5.1.1                    pypi_0    pypi\n",
      "defusedxml                0.7.1                    pypi_0    pypi\n",
      "entrypoints               0.4                      pypi_0    pypi\n",
      "fastjsonschema            2.16.2                   pypi_0    pypi\n",
      "filelock                  3.9.0                    pypi_0    pypi\n",
      "flit-core                 3.6.0              pyhd3eb1b0_0  \n",
      "fonttools                 4.25.0             pyhd3eb1b0_0  \n",
      "freetype                  2.12.1               ha860e81_0  \n",
      "future                    0.18.3                   pypi_0    pypi\n",
      "glib                      2.69.1               h5dc1a3c_2  \n",
      "gst-plugins-base          1.18.5               h9e645db_0  \n",
      "gstreamer                 1.18.5               hd78058f_0  \n",
      "huggingface-hub           0.12.1                   pypi_0    pypi\n",
      "icu                       58.2                 ha925a31_3  \n",
      "idna                      3.4                      pypi_0    pypi\n",
      "importlib-metadata        6.0.0                    pypi_0    pypi\n",
      "importlib-resources       5.10.2                   pypi_0    pypi\n",
      "intel-openmp              2021.4.0          haa95532_3556  \n",
      "ipykernel                 6.16.2                   pypi_0    pypi\n",
      "ipython                   7.34.0                   pypi_0    pypi\n",
      "ipython-genutils          0.2.0                    pypi_0    pypi\n",
      "ipywidgets                8.0.4                    pypi_0    pypi\n",
      "jedi                      0.18.2                   pypi_0    pypi\n",
      "jinja2                    3.1.2                    pypi_0    pypi\n",
      "jpeg                      9e                   h2bbff1b_0  \n",
      "jsonschema                4.17.3                   pypi_0    pypi\n",
      "jupyter                   1.0.0                    pypi_0    pypi\n",
      "jupyter-client            7.4.9                    pypi_0    pypi\n",
      "jupyter-console           6.5.0                    pypi_0    pypi\n",
      "jupyter-core              4.12.0                   pypi_0    pypi\n",
      "jupyter-server            1.23.5                   pypi_0    pypi\n",
      "jupyterlab-pygments       0.2.2                    pypi_0    pypi\n",
      "jupyterlab-widgets        3.0.5                    pypi_0    pypi\n",
      "kiwisolver                1.4.4            py37hd77b12b_0  \n",
      "lerc                      3.0                  hd77b12b_0  \n",
      "libbrotlicommon           1.0.9                h2bbff1b_7  \n",
      "libbrotlidec              1.0.9                h2bbff1b_7  \n",
      "libbrotlienc              1.0.9                h2bbff1b_7  \n",
      "libclang                  12.0.0          default_h627e005_2  \n",
      "libdeflate                1.8                  h2bbff1b_5  \n",
      "libffi                    3.4.2                hd77b12b_6  \n",
      "libiconv                  1.16                 h2bbff1b_2  \n",
      "libogg                    1.3.5                h2bbff1b_1  \n",
      "libpng                    1.6.37               h2a8f88b_0  \n",
      "libtiff                   4.5.0                h6c2663c_1  \n",
      "libvorbis                 1.3.7                he774522_0  \n",
      "libwebp                   1.2.4                h2bbff1b_0  \n",
      "libwebp-base              1.2.4                h2bbff1b_0  \n",
      "libxml2                   2.9.14               h0ad7f3c_0  \n",
      "libxslt                   1.1.35               h2bbff1b_0  \n",
      "lz4-c                     1.9.4                h2bbff1b_0  \n",
      "markupsafe                2.1.2                    pypi_0    pypi\n",
      "matplotlib                3.5.2            py37haa95532_0  \n",
      "matplotlib-base           3.5.2            py37hd77b12b_0  \n",
      "matplotlib-inline         0.1.6                    pypi_0    pypi\n",
      "mistune                   2.0.5                    pypi_0    pypi\n",
      "mkl                       2021.4.0           haa95532_640  \n",
      "mkl-service               2.4.0            py37h2bbff1b_0  \n",
      "mkl_fft                   1.3.1            py37h277e83a_0  \n",
      "mkl_random                1.2.2            py37hf11a4ad_0  \n",
      "munkres                   1.1.4                      py_0  \n",
      "nbclassic                 0.5.1                    pypi_0    pypi\n",
      "nbclient                  0.7.2                    pypi_0    pypi\n",
      "nbconvert                 7.2.9                    pypi_0    pypi\n",
      "nbformat                  5.7.3                    pypi_0    pypi\n",
      "nest-asyncio              1.5.6                    pypi_0    pypi\n",
      "ninja                     1.10.2               haa95532_5  \n",
      "ninja-base                1.10.2               h6d14046_5  \n",
      "notebook                  6.5.2                    pypi_0    pypi\n",
      "notebook-shim             0.2.2                    pypi_0    pypi\n",
      "numpy                     1.21.5           py37h7a0a035_3  \n",
      "numpy-base                1.21.5           py37hca35cd5_3  \n",
      "openssl                   1.1.1t               h2bbff1b_0  \n",
      "packaging                 23.0                     pypi_0    pypi\n",
      "pandocfilters             1.5.0                    pypi_0    pypi\n",
      "parso                     0.8.3                    pypi_0    pypi\n",
      "pcre                      8.45                 hd77b12b_0  \n",
      "pickleshare               0.7.5                    pypi_0    pypi\n",
      "pillow                    9.3.0            py37hd77b12b_2  \n",
      "pip                       22.3.1           py37haa95532_0  \n",
      "pkgutil-resolve-name      1.3.10                   pypi_0    pypi\n",
      "ply                       3.11                     py37_0  \n",
      "prometheus-client         0.16.0                   pypi_0    pypi\n",
      "prompt-toolkit            3.0.36                   pypi_0    pypi\n",
      "psutil                    5.9.4                    pypi_0    pypi\n",
      "pycparser                 2.21               pyhd3eb1b0_0  \n",
      "pygments                  2.14.0                   pypi_0    pypi\n",
      "pyparsing                 3.0.9            py37haa95532_0  \n",
      "pyqt                      5.15.7           py37hd77b12b_0  \n",
      "pyqt5-sip                 12.11.0          py37hd77b12b_0  \n",
      "pyrsistent                0.19.3                   pypi_0    pypi\n",
      "python                    3.7.16               h6244533_0  \n",
      "python-dateutil           2.8.2              pyhd3eb1b0_0  \n",
      "pytorch                   1.4.0               py3.7_cpu_0  [cpuonly]  pytorch\n",
      "pytorch-mutex             1.0                         cpu    pytorch\n",
      "pywin32                   305                      pypi_0    pypi\n",
      "pywinpty                  2.0.10                   pypi_0    pypi\n",
      "pyyaml                    6.0                      pypi_0    pypi\n",
      "pyzmq                     25.0.0                   pypi_0    pypi\n",
      "qt-main                   5.15.2               he8e5bd7_7  \n",
      "qt-webengine              5.15.9               hb9a9bb5_5  \n",
      "qtconsole                 5.4.0                    pypi_0    pypi\n",
      "qtpy                      2.3.0                    pypi_0    pypi\n",
      "qtwebkit                  5.212                h3ad3cdb_4  \n",
      "regex                     2022.10.31               pypi_0    pypi\n",
      "requests                  2.28.2                   pypi_0    pypi\n",
      "send2trash                1.8.0                    pypi_0    pypi\n",
      "sentencepiece             0.1.97                   pypi_0    pypi\n",
      "setuptools                65.6.3           py37haa95532_0  \n",
      "sip                       6.6.2            py37hd77b12b_0  \n",
      "six                       1.16.0             pyhd3eb1b0_1  \n",
      "sniffio                   1.3.0                    pypi_0    pypi\n",
      "soupsieve                 2.3.2.post1              pypi_0    pypi\n",
      "sqlite                    3.40.1               h2bbff1b_0  \n",
      "terminado                 0.17.1                   pypi_0    pypi\n",
      "tinycss2                  1.2.1                    pypi_0    pypi\n",
      "tk                        8.6.12               h2bbff1b_0  \n",
      "tokenizers                0.13.2                   pypi_0    pypi\n",
      "toml                      0.10.2             pyhd3eb1b0_0  \n",
      "torch                     1.5.0+cu92               pypi_0    pypi\n",
      "torchtext                 0.3.1                    pypi_0    pypi\n",
      "torchvision               0.6.0+cu92               pypi_0    pypi\n",
      "tornado                   6.2              py37h2bbff1b_0  \n",
      "tqdm                      4.64.1                   pypi_0    pypi\n",
      "traitlets                 5.9.0                    pypi_0    pypi\n",
      "transformers              4.26.1                   pypi_0    pypi\n",
      "typing_extensions         4.4.0            py37haa95532_0  \n",
      "urllib3                   1.26.14                  pypi_0    pypi\n",
      "vc                        14.2                 h21ff451_1  \n",
      "vs2015_runtime            14.27.29016          h5e58377_2  \n",
      "wcwidth                   0.2.6                    pypi_0    pypi\n",
      "webencodings              0.5.1                    pypi_0    pypi\n",
      "websocket-client          1.5.1                    pypi_0    pypi\n",
      "wget                      3.2                      pypi_0    pypi\n",
      "wheel                     0.37.1             pyhd3eb1b0_0  \n",
      "widgetsnbextension        4.0.5                    pypi_0    pypi\n",
      "wincertstore              0.2              py37haa95532_2  \n",
      "xz                        5.2.10               h8cc25b3_1  \n",
      "zipp                      3.13.0                   pypi_0    pypi\n",
      "zlib                      1.2.13               h8cc25b3_0  \n",
      "zstd                      1.5.2                h19a0ad4_0  \n",
      "\n",
      "Note: you may need to restart the kernel to use updated packages.\n"
     ]
    }
   ],
   "source": [
    "conda list"
   ]
  },
  {
   "cell_type": "code",
   "execution_count": 5,
   "id": "a073da64",
   "metadata": {},
   "outputs": [
    {
     "data": {
      "text/plain": [
       "True"
      ]
     },
     "execution_count": 5,
     "metadata": {},
     "output_type": "execute_result"
    }
   ],
   "source": [
    "import torch\n",
    "torch.cuda.is_available()"
   ]
  },
  {
   "cell_type": "code",
   "execution_count": 6,
   "id": "ca1492a8",
   "metadata": {},
   "outputs": [],
   "source": [
    "import re\n",
    "import sys\n",
    "import random\n",
    "\n",
    "import torch\n",
    "import torch.nn as nn\n",
    "import torch.nn.functional as F\n",
    "\n",
    "from torchtext import data\n",
    "from torchtext import datasets"
   ]
  },
  {
   "cell_type": "markdown",
   "id": "b6563305",
   "metadata": {},
   "source": [
    "현재 내 python=3.7, pytorch version=1.4.0과 맞는 torchtext는 0.5.0 \n",
    "but, 실습하기 위해서는 torchtext==0.3.1 필요"
   ]
  },
  {
   "cell_type": "markdown",
   "id": "3e70ba8c",
   "metadata": {},
   "source": [
    "pip install torchtext==0.3.1"
   ]
  },
  {
   "cell_type": "code",
   "execution_count": 7,
   "id": "85a89a29",
   "metadata": {},
   "outputs": [
    {
     "data": {
      "text/plain": [
       "'0.3.1'"
      ]
     },
     "execution_count": 7,
     "metadata": {},
     "output_type": "execute_result"
    }
   ],
   "source": [
    "import torchtext\n",
    "torchtext.__version__"
   ]
  },
  {
   "cell_type": "markdown",
   "id": "3289ec3d",
   "metadata": {},
   "source": [
    "## Reading Data(IMDb data)"
   ]
  },
  {
   "cell_type": "code",
   "execution_count": 8,
   "id": "5fbf565e",
   "metadata": {},
   "outputs": [],
   "source": [
    "# Data Setting\n",
    "TEXT = data.Field(batch_first = True, #Batch Size를 Data Shape Axis의 가장 앞으로 설정하는 옵션\n",
    "                  fix_length = 500, #sentence의 길이를 미리 제한\n",
    "                  tokenize=str.split, #tokenize를 설정하는 옵션. 기본값은 띄어쓰기 기반의 파이썬의 string.split함수\n",
    "                  pad_first=True,#fix_length대비 짧은 문장의 경우 padding을 해야 하는데 padding을 앞에서 줄 것인지에 대한 옵션\n",
    "                  pad_token='[PAD]',#padding에 대한 특수 token설정\n",
    "                  unk_token='[UNK]')#token dict에 없는 token이 나왔을 경우 해당 token을 표현하는 특수 token\n",
    "\n",
    "LABEL = data.LabelField(dtype=torch.float)#가져올 데이터에 대한 type설정 옵션\n",
    "\n",
    "train_data, test_data = datasets.IMDB.splits(text_field = TEXT, \n",
    "                                             label_field = LABEL)"
   ]
  },
  {
   "cell_type": "code",
   "execution_count": 9,
   "id": "f1ef1ffb",
   "metadata": {},
   "outputs": [
    {
     "name": "stdout",
     "output_type": "stream",
     "text": [
      "Train Data Length : 25000\n",
      "Test Data Length : 25000\n"
     ]
    }
   ],
   "source": [
    "# Data Length\n",
    "print(f'Train Data Length : {len(train_data.examples)}') #data.examples : 데이터의 개수 확인\n",
    "print(f'Test Data Length : {len(test_data.examples)}')"
   ]
  },
  {
   "cell_type": "code",
   "execution_count": 10,
   "id": "eda1dc7b",
   "metadata": {},
   "outputs": [
    {
     "data": {
      "text/plain": [
       "{'text': <torchtext.data.field.Field at 0x2907e9a0e48>,\n",
       " 'label': <torchtext.data.field.LabelField at 0x2907e9a0e08>}"
      ]
     },
     "execution_count": 10,
     "metadata": {},
     "output_type": "execute_result"
    }
   ],
   "source": [
    "# Data Fields\n",
    "train_data.fields"
   ]
  },
  {
   "cell_type": "code",
   "execution_count": 11,
   "id": "9510c9e4",
   "metadata": {},
   "outputs": [
    {
     "name": "stdout",
     "output_type": "stream",
     "text": [
      "---- Data Sample ----\n",
      "Input : \n",
      "Homelessness (or Houselessness as George Carlin stated) has been an issue for years but never a plan to help those on the street that were once considered human who did everything from going to school, work, or vote for the matter. Most people think of the homeless as just a lost cause while worrying about things such as racism, the war on Iraq, pressuring kids to succeed, technology, the elections, inflation, or worrying if they'll be next to end up on the streets.<br /><br />But what if you were given a bet to live on the streets for a month without the luxuries you once had from a home, the entertainment sets, a bathroom, pictures on the wall, a computer, and everything you once treasure to see what it's like to be homeless? That is Goddard Bolt's lesson.<br /><br />Mel Brooks (who directs) who stars as Bolt plays a rich man who has everything in the world until deciding to make a bet with a sissy rival (Jeffery Tambor) to see if he can live in the streets for thirty days without the luxuries; if Bolt succeeds, he can do what he wants with a future project of making more buildings. The bet's on where Bolt is thrown on the street with a bracelet on his leg to monitor his every move where he can't step off the sidewalk. He's given the nickname Pepto by a vagrant after it's written on his forehead where Bolt meets other characters including a woman by the name of Molly (Lesley Ann Warren) an ex-dancer who got divorce before losing her home, and her pals Sailor (Howard Morris) and Fumes (Teddy Wilson) who are already used to the streets. They're survivors. Bolt isn't. He's not used to reaching mutual agreements like he once did when being rich where it's fight or flight, kill or be killed.<br /><br />While the love connection between Molly and Bolt wasn't necessary to plot, I found \"Life Stinks\" to be one of Mel Brooks' observant films where prior to being a comedy, it shows a tender side compared to his slapstick work such as Blazing Saddles, Young Frankenstein, or Spaceballs for the matter, to show what it's like having something valuable before losing it the next day or on the other hand making a stupid bet like all rich people do when they don't know what to do with their money. Maybe they should give it to the homeless instead of using it like Monopoly money.<br /><br />Or maybe this film will inspire you to help others. \n",
      "\n",
      "Label : \n",
      "pos\n"
     ]
    }
   ],
   "source": [
    "# Data Sample\n",
    "print('---- Data Sample ----')\n",
    "print('Input : ')\n",
    "print(' '.join(vars(train_data.examples[1])['text']),'\\n') #vars():데이터 값을 직접 확인\n",
    "print('Label : ')\n",
    "print(vars(train_data.examples[0])['label'])"
   ]
  },
  {
   "cell_type": "code",
   "execution_count": 12,
   "id": "acb171ac",
   "metadata": {},
   "outputs": [
    {
     "name": "stdout",
     "output_type": "stream",
     "text": [
      "This is one of the dumbest films, I've ever seen. It rips off nearly ever type of thriller and manages to make a mess of them all.<br /><br />There's not a single good line or character in the whole mess. If there was a plot, it was an afterthought and as far as acting goes, there's nothing good to say so Ill say nothing. I honestly cant understand how this type of nonsense gets produced and actually released, does somebody somewhere not at some stage think, 'Oh my god this really is a load of shite' and call it a day. Its crap like this that has people downloading illegally, the trailer looks like a completely different film, at least if you have download it, you haven't wasted your time or money Don't waste your time, this is painful. \n",
      "\n",
      "David Bryce's comments nearby are exceptionally well written and informative as almost say everything I feel about DARLING LILI. This massive musical is so peculiar and over blown, over produced and must have caused ruptures at Paramount in 1970. It cost 22 million dollars! That is simply irresponsible. DARLING LILI must have been greenlit from a board meeting that said \"hey we got that Pink Panther guy and that Sound Of Music gal... lets get this too\" and handed over a blank cheque. The result is a hybrid of GIGI, ZEPPELIN, HALF A SIXPENCE, some MGM 40s song and dance numbers of a style (daisies and boaters!) so hopelessly old fashioned as to be like musical porridge, and MATA HARI dramatics. The production is colossal, lush, breathtaking to view, but the rest: the ridiculous romance, Julie looking befuddled, Hudson already dead, the mistimed comedy, and the astoundingly boring songs deaden this spectacular film into being irritating. LILI is like a twee 1940s mega musical with some vulgar bits to spice it up. STAR! released the year before sadly crashed and now is being finally appreciated for the excellent film is genuinely is... and Andrews looks sublime, mature, especially in the last half hour......but LILI is POPPINS and DOLLY frilly and I believe really killed off the mega musical binge of the 60s..... and made Andrews look like Poppins again... which I believe was not Edwards intention. Paramount must have collectively fainted when they saw this: and with another $20 million festering in CATCH 22, and $12 million in ON A CLEAR DAY and $25 million in PAINT YOUR WAGON....they had a financial abyss of CLEOPATRA proportions with $77 million tied into 4 films with very uncertain futures. Maybe they should have asked seer Daisy Gamble from ON A CLEAR DAY ......LILI was very popular on immediate first release in Australia and ran in 70mm cinemas for months but it failed once out in the subs and the sticks and only ever surfaced after that on one night stands with ON A CLEAR DAY as a Sunday night double. Thank god Paramount had their simple $1million (yes, ONE MILLION DOLLAR) film LOVE STORY and that $4 million dollar gangster pic THE GODFATHER also ready to recover all the $77 million in just the next two years....for just $5m.... incredible! \n",
      "\n"
     ]
    }
   ],
   "source": [
    "print(' '.join(vars(train_data.examples[24999])['text']),'\\n')\n",
    "print(' '.join(vars(test_data.examples[24999])['text']),'\\n')"
   ]
  },
  {
   "cell_type": "markdown",
   "id": "aa1e91b5",
   "metadata": {},
   "source": [
    "## Pre-processing Data"
   ]
  },
  {
   "cell_type": "code",
   "execution_count": 13,
   "id": "93501dcc",
   "metadata": {},
   "outputs": [],
   "source": [
    "import re\n",
    "#전처리 과정-특수문자, 소문자화, <br>텍스트\n",
    "def PreProcessingText(input_sentence):\n",
    "    input_sentence = input_sentence.lower() # 소문자화\n",
    "    input_sentence = re.sub('<[^>]*>', repl= ' ', string = input_sentence) #'<[^>]*>'부분을 \"<br />\"로 처리\n",
    "    input_sentence = re.sub('[!\"#$%&\\()*+,-./:;<=>?@[\\\\]^_`{|}~]', repl= ' ', string = input_sentence)#특수문자 처리 (\"'\" 제외)\n",
    "    input_sentence = re.sub('\\s+', repl= ' ', string = input_sentence) # 연속된 띄어쓰기 처리, \\s+:하나 이상의 공백 문자 시퀀스\n",
    "    if input_sentence:\n",
    "        return input_sentence\n",
    "    \n",
    "for example in train_data.examples:\n",
    "    vars(example)['text'] = PreProcessingText(' '.join(vars(example)['text'])).split()\n",
    "\n",
    "for example in test_data.examples:\n",
    "    vars(example)['text'] = PreProcessingText(' '.join(vars(example)['text'])).split()"
   ]
  },
  {
   "cell_type": "code",
   "execution_count": 14,
   "id": "d1200d82",
   "metadata": {},
   "outputs": [
    {
     "name": "stdout",
     "output_type": "stream",
     "text": [
      "['david', \"bryce's\", 'comments', 'nearby', 'are', 'exceptionally', 'well', 'written', 'and', 'informative', 'as', 'almost', 'say', 'everything', 'i', 'feel', 'about', 'darling', 'lili', 'this', 'massive', 'musical', 'is', 'so', 'peculiar', 'and', 'over', 'blown', 'over', 'produced', 'and', 'must', 'have', 'caused', 'ruptures', 'at', 'paramount', 'in', '1970', 'it', 'cost', '22', 'million', 'dollars', 'that', 'is', 'simply', 'irresponsible', 'darling', 'lili', 'must', 'have', 'been', 'greenlit', 'from', 'a', 'board', 'meeting', 'that', 'said', 'hey', 'we', 'got', 'that', 'pink', 'panther', 'guy', 'and', 'that', 'sound', 'of', 'music', 'gal', 'lets', 'get', 'this', 'too', 'and', 'handed', 'over', 'a', 'blank', 'cheque', 'the', 'result', 'is', 'a', 'hybrid', 'of', 'gigi', 'zeppelin', 'half', 'a', 'sixpence', 'some', 'mgm', '40s', 'song', 'and', 'dance', 'numbers', 'of', 'a', 'style', 'daisies', 'and', 'boaters', 'so', 'hopelessly', 'old', 'fashioned', 'as', 'to', 'be', 'like', 'musical', 'porridge', 'and', 'mata', 'hari', 'dramatics', 'the', 'production', 'is', 'colossal', 'lush', 'breathtaking', 'to', 'view', 'but', 'the', 'rest', 'the', 'ridiculous', 'romance', 'julie', 'looking', 'befuddled', 'hudson', 'already', 'dead', 'the', 'mistimed', 'comedy', 'and', 'the', 'astoundingly', 'boring', 'songs', 'deaden', 'this', 'spectacular', 'film', 'into', 'being', 'irritating', 'lili', 'is', 'like', 'a', 'twee', '1940s', 'mega', 'musical', 'with', 'some', 'vulgar', 'bits', 'to', 'spice', 'it', 'up', 'star', 'released', 'the', 'year', 'before', 'sadly', 'crashed', 'and', 'now', 'is', 'being', 'finally', 'appreciated', 'for', 'the', 'excellent', 'film', 'is', 'genuinely', 'is', 'and', 'andrews', 'looks', 'sublime', 'mature', 'especially', 'in', 'the', 'last', 'half', 'hour', 'but', 'lili', 'is', 'poppins', 'and', 'dolly', 'frilly', 'and', 'i', 'believe', 'really', 'killed', 'off', 'the', 'mega', 'musical', 'binge', 'of', 'the', '60s', 'and', 'made', 'andrews', 'look', 'like', 'poppins', 'again', 'which', 'i', 'believe', 'was', 'not', 'edwards', 'intention', 'paramount', 'must', 'have', 'collectively', 'fainted', 'when', 'they', 'saw', 'this', 'and', 'with', 'another', '20', 'million', 'festering', 'in', 'catch', '22', 'and', '12', 'million', 'in', 'on', 'a', 'clear', 'day', 'and', '25', 'million', 'in', 'paint', 'your', 'wagon', 'they', 'had', 'a', 'financial', 'abyss', 'of', 'cleopatra', 'proportions', 'with', '77', 'million', 'tied', 'into', '4', 'films', 'with', 'very', 'uncertain', 'futures', 'maybe', 'they', 'should', 'have', 'asked', 'seer', 'daisy', 'gamble', 'from', 'on', 'a', 'clear', 'day', 'lili', 'was', 'very', 'popular', 'on', 'immediate', 'first', 'release', 'in', 'australia', 'and', 'ran', 'in', '70mm', 'cinemas', 'for', 'months', 'but', 'it', 'failed', 'once', 'out', 'in', 'the', 'subs', 'and', 'the', 'sticks', 'and', 'only', 'ever', 'surfaced', 'after', 'that', 'on', 'one', 'night', 'stands', 'with', 'on', 'a', 'clear', 'day', 'as', 'a', 'sunday', 'night', 'double', 'thank', 'god', 'paramount', 'had', 'their', 'simple', '1million', 'yes', 'one', 'million', 'dollar', 'film', 'love', 'story', 'and', 'that', '4', 'million', 'dollar', 'gangster', 'pic', 'the', 'godfather', 'also', 'ready', 'to', 'recover', 'all', 'the', '77', 'million', 'in', 'just', 'the', 'next', 'two', 'years', 'for', 'just', '5m', 'incredible']\n"
     ]
    }
   ],
   "source": [
    "print(vars(example)['text'])"
   ]
  },
  {
   "cell_type": "markdown",
   "id": "e4452166",
   "metadata": {},
   "source": [
    "David Bryce's comments nearby are exceptionally well written and informative as almost say everything I feel about DARLING LILI.\n",
    "\n",
    "=>'david', \"bryce's\", 'comments', 'nearby', 'are', 'exceptionally', 'well', 'written', 'and', 'informative', 'as', 'almost', 'say', 'everything', 'i', 'feel', 'about', 'darling', 'lili'"
   ]
  },
  {
   "cell_type": "markdown",
   "id": "7425d7f7",
   "metadata": {},
   "source": [
    "## making vocab & setting embedding"
   ]
  },
  {
   "cell_type": "code",
   "execution_count": 15,
   "id": "9190ad1b",
   "metadata": {},
   "outputs": [],
   "source": [
    "# no pre-trained\n",
    "model_config = {'emb_type' : '', 'emb_dim' : 300}"
   ]
  },
  {
   "cell_type": "code",
   "execution_count": 16,
   "id": "0e082c11",
   "metadata": {},
   "outputs": [],
   "source": [
    "# no pre-trained\n",
    "#미리 작업해둔 Field에 build_vocab을 이용해 text data와 label data의 vocab을 손쉽게 만듦\n",
    "TEXT.build_vocab(train_data,\n",
    "                 min_freq = 2,#vocab에 해당하는 token에 최소한으로 등장하는 횟수 제한\n",
    "                 max_size = None,#전체 vocab size제한\n",
    "                 #vectors = f\"glove.6B.{model_config['emb_dim']}d\"\n",
    "                 #pre-trained vector를 가져와 vocab에 세팅. 원하는 임베딩을 정해 string형태로 설정\n",
    "                )\n",
    "\n",
    "LABEL.build_vocab(train_data)\n",
    "\n",
    "model_config['vocab_size'] = len(TEXT.vocab)"
   ]
  },
  {
   "cell_type": "code",
   "execution_count": 17,
   "id": "c5e15110",
   "metadata": {},
   "outputs": [
    {
     "name": "stdout",
     "output_type": "stream",
     "text": [
      "Vocab Size : 51956\n",
      "Vocab Examples : \n",
      "\t [UNK] 0\n",
      "\t [PAD] 1\n",
      "\t the 2\n",
      "\t and 3\n",
      "\t a 4\n",
      "\t of 5\n",
      "\t to 6\n",
      "\t is 7\n",
      "\t in 8\n",
      "\t it 9\n",
      "---------------------------------\n",
      "Label Size : 2\n",
      "Lable Examples : \n",
      "\t neg 0\n",
      "\t pos 1\n"
     ]
    }
   ],
   "source": [
    "# Vocabulary Info\n",
    "print(f'Vocab Size : {len(TEXT.vocab)}')\n",
    "\n",
    "print('Vocab Examples : ')\n",
    "for idx, (k, v) in enumerate(TEXT.vocab.stoi.items()):\n",
    "    if idx >= 10:\n",
    "        break    \n",
    "    print('\\t', k, v)\n",
    "\n",
    "print('---------------------------------')\n",
    "\n",
    "# Label Info\n",
    "print(f'Label Size : {len(LABEL.vocab)}')\n",
    "\n",
    "print('Lable Examples : ')\n",
    "for idx, (k, v) in enumerate(LABEL.vocab.stoi.items()):\n",
    "    print('\\t', k, v)\n",
    "    \n",
    "# Check embedding vectors\n",
    "#TEXT.vocab.vectors.shape()"
   ]
  },
  {
   "cell_type": "markdown",
   "id": "891b6a7a",
   "metadata": {},
   "source": [
    "## spliting validation data & making data iterator"
   ]
  },
  {
   "cell_type": "code",
   "execution_count": 18,
   "id": "0cfb12e0",
   "metadata": {},
   "outputs": [],
   "source": [
    "import random\n",
    "# Spliting Valid set\n",
    "train_data, valid_data = train_data.split(random_state = random.seed(0),\n",
    "                                          split_ratio=0.8)"
   ]
  },
  {
   "cell_type": "code",
   "execution_count": 48,
   "id": "8ea1268c",
   "metadata": {},
   "outputs": [],
   "source": [
    "model_config['batch_size'] = 30\n",
    "\n",
    "device = torch.device('cuda' if torch.cuda.is_available() else 'cpu')\n",
    "\n",
    "#BucketIterator를 이용해 쉽게 batch data 생성\n",
    "train_iterator, valid_iterator, test_iterator = data.BucketIterator.splits(datasets=(train_data, valid_data, test_data), \n",
    "                                                                           batch_size=model_config['batch_size'],\n",
    "                                                                           device=device)"
   ]
  },
  {
   "cell_type": "code",
   "execution_count": 49,
   "id": "1a163294",
   "metadata": {},
   "outputs": [
    {
     "name": "stdout",
     "output_type": "stream",
     "text": [
      "\n",
      "[torchtext.data.batch.Batch of size 30]\n",
      "\t[.text]:[torch.cuda.LongTensor of size 30x500 (GPU 0)]\n",
      "\t[.label]:[torch.cuda.FloatTensor of size 30 (GPU 0)]\n",
      "tensor([[    1,     1,     1,  ...,  1262,    22,   119],\n",
      "        [    1,     1,     1,  ...,  5769,     3,  4838],\n",
      "        [    1,     1,     1,  ...,  3035,    76,  4462],\n",
      "        ...,\n",
      "        [    1,     1,     1,  ..., 15469,  5258,     0],\n",
      "        [    1,     1,     1,  ...,    16,   916,   467],\n",
      "        [    1,     1,     1,  ...,    24,   233,  2630]], device='cuda:0')\n",
      "tensor([0., 1., 0., 1., 0., 0., 1., 0., 0., 0., 0., 0., 1., 0., 1., 1., 0., 0.,\n",
      "        0., 1., 1., 1., 0., 0., 1., 1., 1., 1., 1., 1.], device='cuda:0')\n"
     ]
    }
   ],
   "source": [
    "# Check batch data\n",
    "sample_for_check = next(iter(train_iterator))\n",
    "print(sample_for_check)\n",
    "print(sample_for_check.text)\n",
    "print(sample_for_check.label)"
   ]
  },
  {
   "cell_type": "markdown",
   "id": "8982fa3e",
   "metadata": {},
   "source": [
    "## Pytorch에서 RNN, LSTM, GRU을 이용한 모델 만들기"
   ]
  },
  {
   "cell_type": "markdown",
   "id": "272ce9b6",
   "metadata": {},
   "source": [
    "## Making Model"
   ]
  },
  {
   "cell_type": "code",
   "execution_count": 21,
   "id": "4a391d05",
   "metadata": {},
   "outputs": [],
   "source": [
    "class SentenceClassification(nn.Module):\n",
    "    def __init__(self, **model_config):\n",
    "        super(SentenceClassification, self).__init__()\n",
    "\n",
    "        if model_config['emb_type'] == 'glove' or 'fasttext':#input:token index값을 가진 vector. vocab_size*embedding_dimension 행렬을 만들어 학습\n",
    "            self.emb = nn.Embedding(num_embeddings = model_config['vocab_size'],#num_embeddings: vocab size\n",
    "                                    embedding_dim = model_config['emb_dim'],#embedding_dim:원하는 embedding dim 설정\n",
    "                                    _weight = TEXT.vocab.vectors)#pre-trained vector를 embedding 행렬의 initial value로 설정. 이 옵션이 없을 경우 정규분포에서 생성한 값을 initial value로 설정하고 학습\n",
    "        else:\n",
    "            self.emb = nn.Embedding(num_embeddings = model_config['vocab_size'],\n",
    "                                    embedding_dim = model_config['emb_dim'])\n",
    "        \n",
    "        self.bidirectional = model_config['bidirectional']\n",
    "        self.num_direction = 2 if model_config['bidirectional'] else 1\n",
    "        self.model_type = model_config['model_type'] \n",
    "\n",
    "        self.RNN = nn.RNN(input_size = model_config['emb_dim'],#입력받을 data의 크기. embedding dimension설정\n",
    "                          hidden_size = model_config['hidden_dim'],#hidden layer의 dimension설정\n",
    "                          dropout = model_config['dropout'],\n",
    "                          bidirectional = model_config['bidirectional'],\n",
    "                          batch_first = model_config['batch_first'])#data의 제일 처음 axis에 batch_size가 오도록 설정\n",
    "        \n",
    "        self.LSTM= nn.LSTM(input_size = model_config['emb_dim'],\n",
    "                           hidden_size = model_config['hidden_dim'],\n",
    "                           dropout = model_config['dropout'],\n",
    "                           bidirectional = model_config['bidirectional'],\n",
    "                           batch_first = model_config['batch_first'])\n",
    "        \n",
    "        self.GRU = nn.GRU(input_size = model_config['emb_dim'],\n",
    "                          hidden_size = model_config['hidden_dim'],\n",
    "                          dropout = model_config['dropout'],\n",
    "                          bidirectional = model_config['bidirectional'],\n",
    "                          batch_first = model_config['batch_first'])\n",
    "    \n",
    "        self.fc = nn.Linear(model_config['hidden_dim'] * self.num_direction,#분류문제를 푸는 task를 할 예정이므로 class에 대한 score를 생성하기 위해 fc layer를 1개 만들어 통과시킴.\n",
    "                            model_config['output_dim'])#추후 시그모이드가 없는 이유는 추후 loss function에 포함돼 있기 때문\n",
    "        \n",
    "        self.drop = nn.Dropout(model_config['dropout'])\n",
    "\n",
    "    def forward(self, x):\n",
    "        \n",
    "        emb = self.emb(x) \n",
    "        # emb : (Batch_Size, Max_Seq_Length, Emb_dim)\n",
    "\n",
    "        if self.model_type == 'RNN':\n",
    "            output, hidden = self.RNN(emb) \n",
    "        elif self.model_type == 'LSTM':\n",
    "            output, (hidden, cell) = self.LSTM(emb)\n",
    "        elif self.model_type == 'GRU':\n",
    "            output, hidden = self.GRU(emb)\n",
    "        else:\n",
    "            raise NameError('Select model_type in [RNN, LSTM, GRU]')\n",
    "        \n",
    "        # output : (Batch_Size, Max_Seq_Length, Hidden_dim * num_direction) \n",
    "        # hidden : (num_direction, Batch_Size, Hidden_dim)\n",
    "        # hidden의 경우, batch_first 옵션이 안먹는 문제가 있음\n",
    "        \n",
    "        last_output = output[:,-1,:] #output shape은 token의 위치를 설명하는 두번째 차원에서 마지막 값을 가져와 사용\n",
    "\n",
    "        # last_output : (Batch_Size, Hidden_dim * num_direction)\n",
    "        return self.fc(self.drop(last_output))"
   ]
  },
  {
   "cell_type": "markdown",
   "id": "f5e1abad",
   "metadata": {},
   "source": [
    "## checking feed-forward"
   ]
  },
  {
   "cell_type": "code",
   "execution_count": 22,
   "id": "0788557c",
   "metadata": {},
   "outputs": [
    {
     "name": "stdout",
     "output_type": "stream",
     "text": [
      "tensor([-0.6676,  0.1522,  0.0144,  0.1871,  0.0066,  0.1627, -0.3164,  0.0410,\n",
      "        -0.0477,  0.4566,  0.2973,  0.2824, -0.5210, -0.2715, -0.0669, -0.6465,\n",
      "        -0.1592,  0.1828, -0.3963, -0.1276,  0.0184, -0.6499,  0.4616,  0.4156,\n",
      "         0.1446, -0.6803,  0.2401, -0.0124, -0.0437, -0.2673], device='cuda:0',\n",
      "       grad_fn=<SqueezeBackward0>)\n",
      "tensor(0.7634, device='cuda:0', grad_fn=<BinaryCrossEntropyWithLogitsBackward>) tensor(0.3333, device='cuda:0')\n"
     ]
    }
   ],
   "source": [
    "model_config.update(dict(batch_first = True,\n",
    "                         model_type = 'RNN',#RNN, LSTM, GRU 중 하나 선택\n",
    "                         bidirectional = True, #양방향 선택\n",
    "                         hidden_dim = 128,\n",
    "                         output_dim = 1, #IMDb분류는 binary classification이므로\n",
    "                         dropout = 0))\n",
    "\n",
    "model = SentenceClassification(**model_config).to(device)\n",
    "\n",
    "predictions = model.forward(sample_for_check.text).squeeze()\n",
    "\n",
    "loss_fn = nn.BCEWithLogitsLoss().to(device) #내부에서 시그모이드 적용. 시그모이드 레이어 통과하지 않은 값은 input으로 사용\n",
    "\n",
    "def binary_accuracy(preds, y):\n",
    "    rounded_preds = torch.round(torch.sigmoid(preds))\n",
    "    correct = (rounded_preds == y).float() \n",
    "    acc = correct.sum()/len(correct)\n",
    "    return acc\n",
    "\n",
    "loss = loss_fn(predictions, sample_for_check.label)\n",
    "acc = binary_accuracy(predictions, sample_for_check.label)\n",
    "\n",
    "print(predictions)\n",
    "print(loss, acc)"
   ]
  },
  {
   "cell_type": "markdown",
   "id": "6f76649d",
   "metadata": {},
   "source": [
    "## training"
   ]
  },
  {
   "cell_type": "code",
   "execution_count": 23,
   "id": "5e8bcaa9",
   "metadata": {},
   "outputs": [],
   "source": [
    "def train(model, iterator, optimizer, loss_fn, idx_epoch, **model_params):\n",
    "    \n",
    "    epoch_loss = 0\n",
    "    epoch_acc = 0\n",
    "    \n",
    "    model.train() \n",
    "    batch_size = model_params['batch_size']\n",
    "\n",
    "    for idx, batch in enumerate(iterator):\n",
    "        \n",
    "        # Initializing\n",
    "        optimizer.zero_grad()\n",
    "        \n",
    "        # Forward \n",
    "        predictions = model(batch.text).squeeze()\n",
    "        loss = loss_fn(predictions, batch.label)\n",
    "        acc = binary_accuracy(predictions, batch.label)\n",
    "        \n",
    "        sys.stdout.write(\n",
    "                    \"\\r\" + f\"[Train] Epoch : {idx_epoch:^3}\"\\\n",
    "                    f\"[{(idx + 1) * batch_size} / {len(iterator) * batch_size} ({100. * (idx + 1) / len(iterator) :.4}%)]\"\\\n",
    "                    f\"  Loss: {loss.item():.4}\"\\\n",
    "                    f\"  Acc : {acc.item():.4}\"\\\n",
    "                    )\n",
    "\n",
    "        # Backward \n",
    "        loss.backward()\n",
    "        optimizer.step()\n",
    "        \n",
    "        # Update Epoch Performance\n",
    "        epoch_loss += loss.item()\n",
    "        epoch_acc += acc.item()\n",
    "        \n",
    "    return epoch_loss/len(iterator) , epoch_acc/len(iterator) "
   ]
  },
  {
   "cell_type": "code",
   "execution_count": 24,
   "id": "81ce0bb9",
   "metadata": {},
   "outputs": [],
   "source": [
    "def evaluate(model, iterator, loss_fn):\n",
    "    \n",
    "    epoch_loss = 0\n",
    "    epoch_acc = 0\n",
    "    \n",
    "    # evaluation mode\n",
    "    model.eval()\n",
    "    with torch.no_grad():\n",
    "        for batch in iterator:\n",
    "            predictions = model(batch.text).squeeze(1)\n",
    "            loss = loss_fn(predictions, batch.label)\n",
    "            acc = binary_accuracy(predictions, batch.label)\n",
    "\n",
    "            epoch_loss += loss.item()\n",
    "            epoch_acc += acc.item()\n",
    "        \n",
    "    return epoch_loss / len(iterator), epoch_acc / len(iterator)"
   ]
  },
  {
   "cell_type": "markdown",
   "id": "dae30f2a",
   "metadata": {},
   "source": [
    "## bi-RNN"
   ]
  },
  {
   "cell_type": "code",
   "execution_count": 25,
   "id": "2fd3f18a",
   "metadata": {},
   "outputs": [],
   "source": [
    "model_config['model_type'] = 'RNN'\n",
    "model = SentenceClassification(**model_config).to(device)\n",
    "optimizer = torch.optim.Adam(model.parameters())\n",
    "loss_fn = nn.BCEWithLogitsLoss().to(device)"
   ]
  },
  {
   "cell_type": "code",
   "execution_count": 26,
   "id": "047696ae",
   "metadata": {},
   "outputs": [
    {
     "name": "stdout",
     "output_type": "stream",
     "text": [
      "---------------------------------\n",
      "Model name : bi-RNN_\n",
      "---------------------------------\n",
      "[Train] Epoch :  0 [20010 / 20010 (100.0%)]  Loss: 0.5096  Acc : 0.8333\n",
      "\t Saved at 0-epoch\n",
      "\t Epoch : 0 | Train Loss : 0.6391 | Train Acc : 0.6321\n",
      "\t Epoch : 0 | Valid Loss : 0.5899 | Valid Acc : 0.6864\n",
      "[Train] Epoch :  1 [20010 / 20010 (100.0%)]  Loss: 0.7219  Acc : 0.6333\n",
      "\t Epoch : 1 | Train Loss : 0.602 | Train Acc : 0.6632\n",
      "\t Epoch : 1 | Valid Loss : 0.6674 | Valid Acc : 0.5914\n",
      "[Train] Epoch :  2 [20010 / 20010 (100.0%)]  Loss: 0.6283  Acc : 0.6333\n",
      "\t Epoch : 2 | Train Loss : 0.6105 | Train Acc : 0.6505\n",
      "\t Epoch : 2 | Valid Loss : 0.6561 | Valid Acc : 0.6085\n",
      "[Train] Epoch :  3 [20010 / 20010 (100.0%)]  Loss: 0.5565  Acc : 0.7667\n",
      "\t Epoch : 3 | Train Loss : 0.5361 | Train Acc : 0.7274\n",
      "\t Epoch : 3 | Valid Loss : 0.6525 | Valid Acc : 0.6359\n",
      "[Train] Epoch :  4 [20010 / 20010 (100.0%)]  Loss: 0.6596  Acc : 0.6333\n",
      "\t Epoch : 4 | Train Loss : 0.4704 | Train Acc : 0.7755\n",
      "\t Epoch : 4 | Valid Loss : 0.6425 | Valid Acc : 0.6817\n"
     ]
    }
   ],
   "source": [
    "N_EPOCH = 5\n",
    "\n",
    "best_valid_loss = float('inf')\n",
    "model_name = f\"{'bi-' if model_config['bidirectional'] else ''}{model_config['model_type']}_{model_config['emb_type']}\"\n",
    "\n",
    "print('---------------------------------')\n",
    "print(f'Model name : {model_name}')\n",
    "print('---------------------------------')\n",
    "\n",
    "for epoch in range(N_EPOCH):\n",
    "    train_loss, train_acc = train(model, train_iterator, optimizer, loss_fn, epoch, **model_config)\n",
    "    valid_loss, valid_acc = evaluate(model, valid_iterator, loss_fn)\n",
    "    print('')\n",
    "    if valid_loss < best_valid_loss:\n",
    "        best_valid_loss = valid_loss\n",
    "        torch.save(model.state_dict(), f'./{model_name}.pt')#early stopping을 위해 validation loss가 최저일 때의 모델 저장. \n",
    "        #이를 나중에 불러와 test set에서 적용해 성능 측정\n",
    "        print(f'\\t Saved at {epoch}-epoch')\n",
    "\n",
    "    print(f'\\t Epoch : {epoch} | Train Loss : {train_loss:.4} | Train Acc : {train_acc:.4}')\n",
    "    print(f'\\t Epoch : {epoch} | Valid Loss : {valid_loss:.4} | Valid Acc : {valid_acc:.4}')"
   ]
  },
  {
   "cell_type": "markdown",
   "id": "28642fd3",
   "metadata": {},
   "source": [
    "train loss는 계속 줄어들지만, val loss는 상승=과적합"
   ]
  },
  {
   "cell_type": "code",
   "execution_count": 27,
   "id": "d55e47c2",
   "metadata": {},
   "outputs": [
    {
     "name": "stdout",
     "output_type": "stream",
     "text": [
      "Test Loss : 0.5807 | Test Acc : 0.7032\n"
     ]
    }
   ],
   "source": [
    "# Test set\n",
    "#저장해둔 모델 다시 가져와 test데이터에서의 성능 측정\n",
    "model.load_state_dict(torch.load(f'./{model_name}.pt'))\n",
    "test_loss, test_acc = evaluate(model, test_iterator, loss_fn)\n",
    "print(f'Test Loss : {test_loss:.4} | Test Acc : {test_acc:.4}')"
   ]
  },
  {
   "cell_type": "markdown",
   "id": "8569b80c",
   "metadata": {},
   "source": [
    "## bi-LSTM"
   ]
  },
  {
   "cell_type": "code",
   "execution_count": 28,
   "id": "148f4cd5",
   "metadata": {},
   "outputs": [],
   "source": [
    "model_config['model_type'] = 'LSTM'\n",
    "model = SentenceClassification(**model_config).to(device)\n",
    "optimizer = torch.optim.Adam(model.parameters())\n",
    "loss_fn = nn.BCEWithLogitsLoss().to(device)"
   ]
  },
  {
   "cell_type": "code",
   "execution_count": 29,
   "id": "4c46e201",
   "metadata": {},
   "outputs": [
    {
     "name": "stdout",
     "output_type": "stream",
     "text": [
      "---------------------------------\n",
      "Model name : bi-LSTM_\n",
      "---------------------------------\n",
      "[Train] Epoch :  0 [20010 / 20010 (100.0%)]  Loss: 0.6032  Acc : 0.7333\n",
      "\t Saved at 0-epoch\n",
      "\t Epoch : 0 | Train Loss : 0.5579 | Train Acc : 0.7091\n",
      "\t Epoch : 0 | Valid Loss : 0.4589 | Valid Acc : 0.7975\n",
      "[Train] Epoch :  1 [20010 / 20010 (100.0%)]  Loss: 0.542  Acc : 0.66677\n",
      "\t Epoch : 1 | Train Loss : 0.4336 | Train Acc : 0.8001\n",
      "\t Epoch : 1 | Valid Loss : 0.4788 | Valid Acc : 0.7676\n",
      "[Train] Epoch :  2 [20010 / 20010 (100.0%)]  Loss: 0.3564  Acc : 0.8673\n",
      "\t Saved at 2-epoch\n",
      "\t Epoch : 2 | Train Loss : 0.3143 | Train Acc : 0.8689\n",
      "\t Epoch : 2 | Valid Loss : 0.3805 | Valid Acc : 0.8389\n",
      "[Train] Epoch :  3 [20010 / 20010 (100.0%)]  Loss: 0.2192  Acc : 0.96677\n",
      "\t Epoch : 3 | Train Loss : 0.1924 | Train Acc : 0.9275\n",
      "\t Epoch : 3 | Valid Loss : 0.4796 | Valid Acc : 0.8186\n",
      "[Train] Epoch :  4 [20010 / 20010 (100.0%)]  Loss: 0.1592  Acc : 0.93337\n",
      "\t Epoch : 4 | Train Loss : 0.1324 | Train Acc : 0.9523\n",
      "\t Epoch : 4 | Valid Loss : 0.4212 | Valid Acc : 0.8652\n"
     ]
    }
   ],
   "source": [
    "N_EPOCH = 5\n",
    "\n",
    "best_valid_loss = float('inf')\n",
    "model_name = f\"{'bi-' if model_config['bidirectional'] else ''}{model_config['model_type']}_{model_config['emb_type']}\"\n",
    "\n",
    "print('---------------------------------')\n",
    "print(f'Model name : {model_name}')\n",
    "print('---------------------------------')\n",
    "\n",
    "for epoch in range(N_EPOCH):\n",
    "    train_loss, train_acc = train(model, train_iterator, optimizer, loss_fn, epoch, **model_config)\n",
    "    valid_loss, valid_acc = evaluate(model, valid_iterator, loss_fn)\n",
    "    print('')\n",
    "    if valid_loss < best_valid_loss:\n",
    "        best_valid_loss = valid_loss\n",
    "        torch.save(model.state_dict(), f'./{model_name}.pt')\n",
    "        print(f'\\t Saved at {epoch}-epoch')\n",
    "\n",
    "    print(f'\\t Epoch : {epoch} | Train Loss : {train_loss:.4} | Train Acc : {train_acc:.4}')\n",
    "    print(f'\\t Epoch : {epoch} | Valid Loss : {valid_loss:.4} | Valid Acc : {valid_acc:.4}')"
   ]
  },
  {
   "cell_type": "code",
   "execution_count": 30,
   "id": "60e3c4ac",
   "metadata": {},
   "outputs": [
    {
     "name": "stdout",
     "output_type": "stream",
     "text": [
      "Test Loss : 0.4023 | Test Acc : 0.8319\n"
     ]
    }
   ],
   "source": [
    "# Test set\n",
    "model.load_state_dict(torch.load(f'./{model_name}.pt'))\n",
    "test_loss, test_acc = evaluate(model, test_iterator, loss_fn)\n",
    "print(f'Test Loss : {test_loss:.4} | Test Acc : {test_acc:.4}')"
   ]
  },
  {
   "cell_type": "markdown",
   "id": "2962db63",
   "metadata": {},
   "source": [
    "## bi-GRU"
   ]
  },
  {
   "cell_type": "code",
   "execution_count": 31,
   "id": "dbb7731e",
   "metadata": {},
   "outputs": [],
   "source": [
    "model_config['model_type'] = 'GRU'\n",
    "model = SentenceClassification(**model_config).to(device)\n",
    "optimizer = torch.optim.Adam(model.parameters())\n",
    "loss_fn = nn.BCEWithLogitsLoss().to(device)"
   ]
  },
  {
   "cell_type": "code",
   "execution_count": 32,
   "id": "7d9ce7bc",
   "metadata": {},
   "outputs": [
    {
     "name": "stdout",
     "output_type": "stream",
     "text": [
      "---------------------------------\n",
      "Model name : bi-GRU_\n",
      "---------------------------------\n",
      "[Train] Epoch :  0 [20010 / 20010 (100.0%)]  Loss: 0.5713  Acc : 0.7333\n",
      "\t Saved at 0-epoch\n",
      "\t Epoch : 0 | Train Loss : 0.5673 | Train Acc : 0.6945\n",
      "\t Epoch : 0 | Valid Loss : 0.5422 | Valid Acc : 0.7335\n",
      "[Train] Epoch :  1 [20010 / 20010 (100.0%)]  Loss: 0.2503  Acc : 0.9333\n",
      "\t Saved at 1-epoch\n",
      "\t Epoch : 1 | Train Loss : 0.3731 | Train Acc : 0.8381\n",
      "\t Epoch : 1 | Valid Loss : 0.3578 | Valid Acc : 0.8498\n",
      "[Train] Epoch :  2 [20010 / 20010 (100.0%)]  Loss: 0.1648  Acc : 0.93337\n",
      "\t Saved at 2-epoch\n",
      "\t Epoch : 2 | Train Loss : 0.1945 | Train Acc : 0.9253\n",
      "\t Epoch : 2 | Valid Loss : 0.337 | Valid Acc : 0.8698\n",
      "[Train] Epoch :  3 [20010 / 20010 (100.0%)]  Loss: 0.07296  Acc : 0.9667\n",
      "\t Epoch : 3 | Train Loss : 0.09398 | Train Acc : 0.9687\n",
      "\t Epoch : 3 | Valid Loss : 0.373 | Valid Acc : 0.8811\n",
      "[Train] Epoch :  4 [20010 / 20010 (100.0%)]  Loss: 0.05454  Acc : 0.9667\n",
      "\t Epoch : 4 | Train Loss : 0.04995 | Train Acc : 0.9846\n",
      "\t Epoch : 4 | Valid Loss : 0.4975 | Valid Acc : 0.8713\n"
     ]
    }
   ],
   "source": [
    "N_EPOCH = 5\n",
    "\n",
    "best_valid_loss = float('inf')\n",
    "model_name = f\"{'bi-' if model_config['bidirectional'] else ''}{model_config['model_type']}_{model_config['emb_type']}\"\n",
    "\n",
    "print('---------------------------------')\n",
    "print(f'Model name : {model_name}')\n",
    "print('---------------------------------')\n",
    "\n",
    "for epoch in range(N_EPOCH):\n",
    "    train_loss, train_acc = train(model, train_iterator, optimizer, loss_fn, epoch, **model_config)\n",
    "    valid_loss, valid_acc = evaluate(model, valid_iterator, loss_fn)\n",
    "    print('')\n",
    "    if valid_loss < best_valid_loss:\n",
    "        best_valid_loss = valid_loss\n",
    "        torch.save(model.state_dict(), f'./{model_name}.pt')\n",
    "        print(f'\\t Saved at {epoch}-epoch')\n",
    "\n",
    "    print(f'\\t Epoch : {epoch} | Train Loss : {train_loss:.4} | Train Acc : {train_acc:.4}')\n",
    "    print(f'\\t Epoch : {epoch} | Valid Loss : {valid_loss:.4} | Valid Acc : {valid_acc:.4}')"
   ]
  },
  {
   "cell_type": "code",
   "execution_count": 33,
   "id": "257de8e1",
   "metadata": {},
   "outputs": [
    {
     "name": "stdout",
     "output_type": "stream",
     "text": [
      "Test Loss : 0.3689 | Test Acc : 0.8493\n"
     ]
    }
   ],
   "source": [
    "# Test set\n",
    "model.load_state_dict(torch.load(f'./{model_name}.pt'))\n",
    "test_loss, test_acc = evaluate(model, test_iterator, loss_fn)\n",
    "print(f'Test Loss : {test_loss:.4} | Test Acc : {test_acc:.4}')"
   ]
  },
  {
   "cell_type": "markdown",
   "id": "bcd490d8",
   "metadata": {},
   "source": [
    "## inference"
   ]
  },
  {
   "cell_type": "code",
   "execution_count": 34,
   "id": "582d615c",
   "metadata": {},
   "outputs": [
    {
     "data": {
      "text/plain": [
       "<All keys matched successfully>"
      ]
     },
     "execution_count": 34,
     "metadata": {},
     "output_type": "execute_result"
    }
   ],
   "source": [
    "model_config['model_type'] = 'GRU'\n",
    "model = SentenceClassification(**model_config).to(device)\n",
    "model.load_state_dict(torch.load(f\"./{'bi-' if model_config['bidirectional'] else ''}{model_config['model_type']}_{model_config['emb_type']}.pt\"))\n",
    "#state_dict를 사용하여 모델의 매개변수들을 불러오기"
   ]
  },
  {
   "cell_type": "code",
   "execution_count": 35,
   "id": "12bd57cc",
   "metadata": {},
   "outputs": [],
   "source": [
    "def predict_sentiment(model, sentence):\n",
    "    model.eval()\n",
    "    indexed = TEXT.numericalize(TEXT.pad([TEXT.tokenize(PreProcessingText(sentence))]))\n",
    "    input_data = torch.LongTensor(indexed).to(device)\n",
    "    prediction = torch.sigmoid(model(input_data))\n",
    "    return prediction.item()"
   ]
  },
  {
   "cell_type": "code",
   "execution_count": 51,
   "id": "fe878e36",
   "metadata": {},
   "outputs": [
    {
     "data": {
      "text/plain": [
       "0.7676379680633545"
      ]
     },
     "execution_count": 51,
     "metadata": {},
     "output_type": "execute_result"
    }
   ],
   "source": [
    "test_sentence = 'this movie is FUN'\n",
    "predict_sentiment(model = model, sentence = test_sentence)"
   ]
  },
  {
   "cell_type": "code",
   "execution_count": 52,
   "id": "8b825eb3",
   "metadata": {},
   "outputs": [
    {
     "data": {
      "text/plain": [
       "0.9920352101325989"
      ]
     },
     "execution_count": 52,
     "metadata": {},
     "output_type": "execute_result"
    }
   ],
   "source": [
    "test_sentence = 'have a nice day'\n",
    "predict_sentiment(model = model, sentence = test_sentence)"
   ]
  },
  {
   "cell_type": "code",
   "execution_count": 61,
   "id": "3744d4b3",
   "metadata": {},
   "outputs": [
    {
     "data": {
      "text/plain": [
       "0.01964973658323288"
      ]
     },
     "execution_count": 61,
     "metadata": {},
     "output_type": "execute_result"
    }
   ],
   "source": [
    "test_sentence = 'im so sad'\n",
    "predict_sentiment(model = model, sentence = test_sentence)"
   ]
  },
  {
   "cell_type": "code",
   "execution_count": null,
   "id": "729213a1",
   "metadata": {},
   "outputs": [],
   "source": []
  },
  {
   "cell_type": "code",
   "execution_count": null,
   "id": "b1f5642f",
   "metadata": {},
   "outputs": [],
   "source": []
  },
  {
   "cell_type": "code",
   "execution_count": null,
   "id": "4961c2db",
   "metadata": {},
   "outputs": [],
   "source": []
  }
 ],
 "metadata": {
  "kernelspec": {
   "display_name": "practice[py-3.7]",
   "language": "python",
   "name": "practice"
  },
  "language_info": {
   "codemirror_mode": {
    "name": "ipython",
    "version": 3
   },
   "file_extension": ".py",
   "mimetype": "text/x-python",
   "name": "python",
   "nbconvert_exporter": "python",
   "pygments_lexer": "ipython3",
   "version": "3.7.16"
  }
 },
 "nbformat": 4,
 "nbformat_minor": 5
}
